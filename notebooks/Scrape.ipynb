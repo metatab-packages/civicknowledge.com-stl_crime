{
 "cells": [
  {
   "cell_type": "code",
   "execution_count": 1,
   "metadata": {},
   "outputs": [],
   "source": [
    "# Lightly Altered from original at: https://github.com/OpenSTL/stl-crime-data"
   ]
  },
  {
   "cell_type": "code",
   "execution_count": 2,
   "metadata": {
    "collapsed": false,
    "jupyter": {
     "outputs_hidden": false
    }
   },
   "outputs": [],
   "source": [
    "import requests\n",
    "from bs4 import BeautifulSoup\n",
    "import re\n",
    "import os\n",
    "import time\n",
    "from pathlib import Path"
   ]
  },
  {
   "cell_type": "code",
   "execution_count": 3,
   "metadata": {
    "collapsed": false,
    "jupyter": {
     "outputs_hidden": false
    }
   },
   "outputs": [],
   "source": [
    "# URL\n",
    "url = 'http://www.slmpd.org/CrimeReport.aspx'\n",
    "\n",
    "# Path to save location\n",
    "path = Path('../cache/')"
   ]
  },
  {
   "cell_type": "code",
   "execution_count": 4,
   "metadata": {},
   "outputs": [],
   "source": [
    "def get_filename(headers):\n",
    "    \"\"\"Parses out the filename from a response header.\"\"\"\n",
    "    return headers['content-disposition'].split('=')[1]"
   ]
  },
  {
   "cell_type": "markdown",
   "metadata": {},
   "source": [
    "###### Get all the dataset eventtargets"
   ]
  },
  {
   "cell_type": "markdown",
   "metadata": {},
   "source": [
    "There five hidden form parameters on the page.<br><br>\n",
    "\\__EVENTARGUMENT<br>\n",
    "\\__EVENTVALIDATION<br>\n",
    "\\__VIEWSTATE<br>\n",
    "\\__EVENTTARGET<br>\n",
    "\\__VIEWSTATEGENERATOR<br>\n",
    "\n",
    "The first page can be requested by a normal get request to the url.\n",
    "The other page requests require 'Argument' and 'Target' arguments.\n",
    "\n",
    "Target, Validation, State, and Generator are required for requests for the files. Some combination of them uniquely identify which file should be returned. The values for Target are reused, so at least one of those other parameters is necesary."
   ]
  },
  {
   "cell_type": "code",
   "execution_count": 5,
   "metadata": {},
   "outputs": [],
   "source": [
    "payload = {}"
   ]
  },
  {
   "cell_type": "code",
   "execution_count": 6,
   "metadata": {
    "collapsed": false,
    "jupyter": {
     "outputs_hidden": false
    }
   },
   "outputs": [],
   "source": [
    "# The first page request is a get to the url.\n",
    "r = requests.get(url)\n",
    "soup = BeautifulSoup(r.content, \"html.parser\")\n",
    "\n",
    "# Get the three hidden parameter values.\n",
    "payload_raw = soup.find_all('input')\n",
    "payload = {x['name']:x['value'] for x in payload_raw}\n",
    "\n",
    "# List to hold eventtargets.\n",
    "datasets_eventtargets_raw = []\n",
    "\n",
    "# Get the data for this page and store it.\n",
    "links = soup.find_all(href=re.compile(\"javascript:__doPostBack\\('.*D',''\\)\"))\n",
    "datasets_eventtargets_raw.append((1, dict(payload), links))\n",
    "    \n",
    "# Set EventTarget for page requesting.\n",
    "payload['__EVENTTARGET'] = 'GridView1'\n",
    "\n",
    "# Loop through all pages.\n",
    "for i in range(2,7):\n",
    "    # Set the eventargument value in the payload.\n",
    "    payload['__EVENTARGUMENT'] = 'Page$' + str(i)\n",
    "    \n",
    "    # Request the page, make a soup object, get all relevant tags.\n",
    "    r = requests.post(url, data=payload)\n",
    "    soup = BeautifulSoup(r.content, \"html.parser\")\n",
    "    # Get the three hidden parameter values.\n",
    "    inputs_raw = soup.find_all('input')\n",
    "    inputs = {x['name']:x['value'] for x in inputs_raw}\n",
    "    links = soup.find_all(href=re.compile(\"javascript:__doPostBack\\('.*D',''\\)\"))\n",
    "    datasets_eventtargets_raw.append((i, inputs, links))"
   ]
  },
  {
   "cell_type": "markdown",
   "metadata": {},
   "source": [
    "datasets_eventtargets_raw now contains a list of tuples\n",
    "1. page number\n",
    "2. dict of inputs for three of the five parameters to the js function\n",
    "3. list of js function calls that contain the argument values for requesting the files"
   ]
  },
  {
   "cell_type": "code",
   "execution_count": 7,
   "metadata": {
    "collapsed": false,
    "jupyter": {
     "outputs_hidden": false
    }
   },
   "outputs": [],
   "source": [
    "# Get list of files that have already been downloaded.\n",
    "file_list = [e.name for e in list(path.glob('*'))]\n",
    "\n"
   ]
  },
  {
   "cell_type": "code",
   "execution_count": 8,
   "metadata": {
    "scrolled": true
   },
   "outputs": [
    {
     "name": "stdout",
     "output_type": "stream",
     "text": [
      "December2020.CSV has already been downloaded.\n",
      "November2020.CSV has already been downloaded.\n",
      "October2020.CSV has already been downloaded.\n",
      "September2020.CSV has already been downloaded.\n",
      "August2020.CSV has already been downloaded.\n",
      "July2020.CSV has already been downloaded.\n",
      "June2020.CSV has already been downloaded.\n",
      "May2020.CSV has already been downloaded.\n",
      "April2020.CSV has already been downloaded.\n",
      "March2020.CSV has already been downloaded.\n",
      "February2020.CSV has already been downloaded.\n",
      "January2020.CSV has already been downloaded.\n",
      "December2019.CSV has already been downloaded.\n",
      "November2019.CSV has already been downloaded.\n",
      "October2019.CSV has already been downloaded.\n",
      "September2019.CSV has already been downloaded.\n",
      "August2019.CSV has already been downloaded.\n",
      "July2019.CSV has already been downloaded.\n",
      "June2019.CSV has already been downloaded.\n",
      "May2019.CSV has already been downloaded.\n",
      "April2019.CSV has already been downloaded.\n",
      "March2019.CSV has already been downloaded.\n",
      "February2019.CSV has already been downloaded.\n",
      "January2019.CSV has already been downloaded.\n",
      "December2018.CSV has already been downloaded.\n",
      "November2018.CSV has already been downloaded.\n",
      "October2018.CSV has already been downloaded.\n",
      "September2018.CSV has already been downloaded.\n",
      "August2018.CSV has already been downloaded.\n",
      "July2018.CSV has already been downloaded.\n",
      "June2018.CSV has already been downloaded.\n",
      "May2018.CSV has already been downloaded.\n",
      "April2018.CSV has already been downloaded.\n",
      "March2018.CSV has already been downloaded.\n",
      "February2018.CSV has already been downloaded.\n",
      "January2018.CSV has already been downloaded.\n",
      "December2017.CSV has already been downloaded.\n",
      "November2017.CSV has already been downloaded.\n",
      "October2017.CSV has already been downloaded.\n",
      "September2017.CSV has already been downloaded.\n",
      "August2017.CSV has already been downloaded.\n",
      "July2017.CSV has already been downloaded.\n",
      "June2017.CSV has already been downloaded.\n",
      "May2017.CSV has already been downloaded.\n",
      "April2017.CSV has already been downloaded.\n",
      "March2017.CSV has already been downloaded.\n",
      "February2017.CSV has already been downloaded.\n",
      "January2017.CSV has already been downloaded.\n",
      "December2016.CSV has already been downloaded.\n",
      "November2016.CSV has already been downloaded.\n",
      "October2016.CSV has already been downloaded.\n",
      "September2016.CSV has already been downloaded.\n",
      "August2016.CSV has already been downloaded.\n",
      "July2016.CSV has already been downloaded.\n",
      "June2016.CSV has already been downloaded.\n",
      "May2016.CSV has already been downloaded.\n",
      "April2016.CSV has already been downloaded.\n",
      "March2016.CSV has already been downloaded.\n",
      "February2016.CSV has already been downloaded.\n",
      "January2016.CSV has already been downloaded.\n",
      "December2015.CSV has already been downloaded.\n",
      "November2015.CSV has already been downloaded.\n",
      "October2015.CSV has already been downloaded.\n",
      "September2015.CSV has already been downloaded.\n",
      "August2015.CSV has already been downloaded.\n",
      "July2015.CSV has already been downloaded.\n",
      "June2015.CSV has already been downloaded.\n",
      "May2015.CSV has already been downloaded.\n",
      "April2015.CSV has already been downloaded.\n",
      "March2015.CSV has already been downloaded.\n",
      "February2015.CSV has already been downloaded.\n",
      "January2015.CSV has already been downloaded.\n",
      "December2014.CSV has already been downloaded.\n",
      "November2014.CSV has already been downloaded.\n",
      "October2014.CSV has already been downloaded.\n",
      "September2014.CSV has already been downloaded.\n",
      "August2014.CSV has already been downloaded.\n",
      "July2014.CSV has already been downloaded.\n",
      "June2014.CSV has already been downloaded.\n",
      "May2014.CSV has already been downloaded.\n",
      "April2014.CSV has already been downloaded.\n",
      "March2014.CSV has already been downloaded.\n",
      "February2014.CSV has already been downloaded.\n",
      "January2014.CSV has already been downloaded.\n",
      "December2013.CSV has already been downloaded.\n",
      "November2013.CSV has already been downloaded.\n",
      "October2013.CSV has already been downloaded.\n",
      "September2013.CSV has already been downloaded.\n",
      "August2013.CSV has already been downloaded.\n",
      "July2013.CSV has already been downloaded.\n",
      "June2013.CSV has already been downloaded.\n",
      "May2013.CSV has already been downloaded.\n",
      "April2013.CSV has already been downloaded.\n",
      "March2013.CSV has already been downloaded.\n"
     ]
    }
   ],
   "source": [
    "# Loop through the list of tuples and use the payload dict from each tuple to call all the files from the list in that tuple.\n",
    "pat = re.compile(r\"\\(\\'(.+?)\\'\\)?\")\n",
    "for tup in datasets_eventtargets_raw:\n",
    "    # Parse out the argument value and filename (for validating responses).\n",
    "    datasets_eventtargets = [(pat.findall(x['href'])[0], x.text) for x in tup[2]]\n",
    "    \n",
    "    # Get the three common arguments for all the files on this page.\n",
    "    payload = tup[1]\n",
    "    \n",
    "    # Add a blank fourth.\n",
    "    payload['__EVENTARGUMENT'] = ''\n",
    "    \n",
    "    # Loop through the parsed file arguments and request the files.\n",
    "    for t in datasets_eventtargets:\n",
    "        if t[1] not in file_list:  # Check if this file has already been downloaded.\n",
    "            payload['__EVENTTARGET'] = t[0]\n",
    "            r = requests.post(url, data=payload)\n",
    "            if get_filename(r.headers) == t[1]:\n",
    "                # Save the file. \n",
    "                # TODO: Should rename the files so year is first so they sort correctly.\n",
    "                with path.joinpath(get_filename(r.headers)).open('wb') as f:  \n",
    "                    f.write(r.content)\n",
    "            else:\n",
    "                print('Error with page: ' + str(tup[0]) + ', argument: ' + t[0])\n",
    "            time.sleep(5) #to avoid connection issues with the server\n",
    "        else:\n",
    "            print(t[1] + ' has already been downloaded.')"
   ]
  },
  {
   "cell_type": "code",
   "execution_count": null,
   "metadata": {},
   "outputs": [],
   "source": []
  }
 ],
 "metadata": {
  "kernelspec": {
   "display_name": "Python 3",
   "language": "python",
   "name": "python3"
  },
  "language_info": {
   "codemirror_mode": {
    "name": "ipython",
    "version": 3
   },
   "file_extension": ".py",
   "mimetype": "text/x-python",
   "name": "python",
   "nbconvert_exporter": "python",
   "pygments_lexer": "ipython3",
   "version": "3.7.6"
  }
 },
 "nbformat": 4,
 "nbformat_minor": 4
}
